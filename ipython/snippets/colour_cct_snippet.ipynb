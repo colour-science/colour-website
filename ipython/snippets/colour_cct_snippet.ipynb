{
 "metadata": {
  "name": "",
  "signature": "sha256:c90686e5f0de46c42955e840e37c4720ce6747797005fb2db57f8d5fd3845183"
 },
 "nbformat": 3,
 "nbformat_minor": 0,
 "worksheets": [
  {
   "cells": [
    {
     "cell_type": "code",
     "collapsed": false,
     "input": [
      "import colour\n",
      "il = colour.ILLUMINANTS['CIE 1931 2 Degree Standard Observer']['D50']\n",
      "colour.xy_to_CCT(il, method='Hernandez 1999')"
     ],
     "language": "python",
     "metadata": {},
     "outputs": [
      {
       "metadata": {},
       "output_type": "pyout",
       "prompt_number": 1,
       "text": [
        "5002.418956622862"
       ]
      }
     ],
     "prompt_number": 1
    }
   ],
   "metadata": {}
  }
 ]
}