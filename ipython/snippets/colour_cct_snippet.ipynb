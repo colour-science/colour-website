{
 "metadata": {
  "name": "",
  "signature": "sha256:6a9b2133dc521461c9045958bb2324eec2becd6a8e25580beda9e610738ca93b"
 },
 "nbformat": 3,
 "nbformat_minor": 0,
 "worksheets": [
  {
   "cells": [
    {
     "cell_type": "code",
     "collapsed": false,
     "input": [
      "import colour\n",
      "il = colour.ILLUMINANTS[\"CIE 1931 2 Degree Standard Observer\"][\"D50\"]\n",
      "colour.xy_to_CCT(il, method=\"Hernandez 1999\")"
     ],
     "language": "python",
     "metadata": {},
     "outputs": [
      {
       "metadata": {},
       "output_type": "pyout",
       "prompt_number": 1,
       "text": [
        "5002.418956622862"
       ]
      }
     ],
     "prompt_number": 1
    }
   ],
   "metadata": {}
  }
 ]
}