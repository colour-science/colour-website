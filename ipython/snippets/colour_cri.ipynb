{
 "metadata": {
  "name": "",
  "signature": "sha256:ff4cc1274f4afb3f8ed9d3cad813a74fc6b0e3e5ee6a2e5ff296143643b31ae5"
 },
 "nbformat": 3,
 "nbformat_minor": 0,
 "worksheets": [
  {
   "cells": [
    {
     "cell_type": "code",
     "collapsed": false,
     "input": [
      "import colour\n",
      "spd = colour.ILLUMINANTS_RELATIVE_SPDS.get(\"F2\")\n",
      "colour.get_colour_rendering_index(spd)"
     ],
     "language": "python",
     "metadata": {},
     "outputs": [
      {
       "metadata": {},
       "output_type": "pyout",
       "prompt_number": 1,
       "text": [
        "64.150733149414535"
       ]
      }
     ],
     "prompt_number": 1
    }
   ],
   "metadata": {}
  }
 ]
}