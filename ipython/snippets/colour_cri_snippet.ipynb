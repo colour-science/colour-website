{
 "metadata": {
  "name": "",
  "signature": "sha256:88112c41faf1e8aec3f291c95d88278b83db622d324b67946708d02f459289e3"
 },
 "nbformat": 3,
 "nbformat_minor": 0,
 "worksheets": [
  {
   "cells": [
    {
     "cell_type": "code",
     "collapsed": false,
     "input": [
      "import colour\n",
      "spd = colour.ILLUMINANTS_RELATIVE_SPDS.get('F2')\n",
      "colour.get_colour_rendering_index(spd)"
     ],
     "language": "python",
     "metadata": {},
     "outputs": [
      {
       "metadata": {},
       "output_type": "pyout",
       "prompt_number": 1,
       "text": [
        "64.150733149414535"
       ]
      }
     ],
     "prompt_number": 1
    }
   ],
   "metadata": {}
  }
 ]
}