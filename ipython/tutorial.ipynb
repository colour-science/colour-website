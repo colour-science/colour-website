{
 "metadata": {
  "name": "",
  "signature": "sha256:988ab34377e8fa90eb63aa3c47f8f89a752770f656b4657a2890022ee9967b72"
 },
 "nbformat": 3,
 "nbformat_minor": 0,
 "worksheets": [
  {
   "cells": [
    {
     "cell_type": "heading",
     "level": 1,
     "metadata": {},
     "source": [
      "Colour - Tutorial"
     ]
    },
    {
     "cell_type": "markdown",
     "metadata": {},
     "source": [
      "[Colour](https://github.com/KelSolaar/Colour/) spreads over various domains of the Colour Science from colour models to optical phenomenons, this tutorial will not give you a complete overview of the API but will still be good introduction.\n",
      "\n",
      "> Note: There is a directory full of examples at this path in your [Colour](https://github.com/KelSolaar/Colour/) installation: *colour/examples*. You can also consult it directly on Github: https://github.com/colour-science/colour/tree/master/colour/examples"
     ]
    },
    {
     "cell_type": "code",
     "collapsed": false,
     "input": [
      "from colour.plotting import *  # noqa\n",
      "\n",
      "visible_spectrum_plot()"
     ],
     "language": "python",
     "metadata": {},
     "outputs": [
      {
       "metadata": {},
       "output_type": "display_data",
       "png": "[encoded data removed]",
       "text": [
        "<matplotlib.figure.Figure at 0x1070a6910>"
       ]
      },
      {
       "metadata": {},
       "output_type": "pyout",
       "prompt_number": 1,
       "text": [
        "True"
       ]
      }
     ],
     "prompt_number": 1
    },
    {
     "cell_type": "heading",
     "level": 2,
     "metadata": {},
     "source": [
      "Overview"
     ]
    },
    {
     "cell_type": "markdown",
     "metadata": {},
     "source": [
      "[Colour](https://github.com/KelSolaar/Colour/) is organised around various sub-packages:\n",
      "\n",
      "*   **adaptation**: Chromatic adaptation transformations.\n",
      "*   **algebra**: Algebra utilities.\n",
      "*   **appearance**: Colour appearance models.\n",
      "*   **characterisation**: Colour fitting and camera characterisation.\n",
      "*   **colorimetry**: Core objects for colour computations.\n",
      "*   **constants**: *CIE* and *CODATA* constants.\n",
      "*   **difference**: Colour difference computations.\n",
      "*   **examples**: Examples for the sub-packages.\n",
      "*   **io**: Input / output objects.\n",
      "*   **models**: Colour models.\n",
      "*   **notation**: Colour notation systems.\n",
      "*   **optimal**: Optimal colour stimuli computation.\n",
      "*   **phenomenons**: Computation of various optical phenomenons.\n",
      "*   **plotting**: Diagrams, plots, etc...\n",
      "*   **quality**: Colour quality computation.\n",
      "*   **temperature**: Colour temperature and correlated colour temperature computation.\n",
      "*   **utilities**: Various utilities and data structures.\n",
      "\n",
      "Most of the public API is available from the root colour namespace:"
     ]
    },
    {
     "cell_type": "code",
     "collapsed": false,
     "input": [
      "import colour\n",
      "\n",
      "print(colour.__all__[:5] + [\"...\"])"
     ],
     "language": "python",
     "metadata": {},
     "outputs": [
      {
       "output_type": "stream",
       "stream": "stdout",
       "text": [
        "['CHROMATIC_ADAPTATION_METHODS', 'chromatic_adaptation_matrix', 'steps', 'closest', 'to_ndarray', '...']\n"
       ]
      }
     ],
     "prompt_number": 2
    },
    {
     "cell_type": "markdown",
     "metadata": {},
     "source": [
      "The various sub-packages also expose their public API:"
     ]
    },
    {
     "cell_type": "code",
     "collapsed": false,
     "input": [
      "from pprint import pprint\n",
      "\n",
      "for sub_package in ('adaptation', 'algebra', 'appearance', 'characterisation',\n",
      "                    'colorimetry', 'constants', 'difference', 'io', 'models',\n",
      "                    'notation', 'optimal', 'phenomenons', 'plotting',\n",
      "                    'quality', 'temperature', 'utilities'):\n",
      "    print(sub_package.title())\n",
      "    pprint(getattr(colour, sub_package).__all__)\n",
      "    print(\"\\n\")"
     ],
     "language": "python",
     "metadata": {},
     "outputs": [
      {
       "output_type": "stream",
       "stream": "stdout",
       "text": [
        "Adaptation\n",
        "['CHROMATIC_ADAPTATION_METHODS', 'chromatic_adaptation_matrix']\n",
        "\n",
        "\n",
        "Algebra\n",
        "['steps',\n",
        " 'closest',\n",
        " 'to_ndarray',\n",
        " 'is_uniform',\n",
        " 'is_iterable',\n",
        " 'is_numeric',\n",
        " 'is_integer',\n",
        " 'normalise',\n",
        " 'cartesian_to_spherical',\n",
        " 'spherical_to_cartesian',\n",
        " 'cartesian_to_cylindrical',\n",
        " 'cylindrical_to_cartesian',\n",
        " 'Extrapolator1d',\n",
        " 'LinearInterpolator1d',\n",
        " 'SplineInterpolator',\n",
        " 'SpragueInterpolator',\n",
        " 'is_identity',\n",
        " 'linear_regression']\n",
        "\n",
        "\n",
        "Appearance\n",
        "['Hunt_InductionFactors',\n",
        " 'HUNT_VIEWING_CONDITIONS',\n",
        " 'Hunt_Specification',\n",
        " 'XYZ_to_Hunt',\n",
        " 'ATD95_Specification',\n",
        " 'XYZ_to_ATD95',\n",
        " 'CIECAM02_InductionFactors',\n",
        " 'CIECAM02_VIEWING_CONDITIONS',\n",
        " 'CIECAM02_Specification',\n",
        " 'XYZ_to_CIECAM02',\n",
        " 'CIECAM02_to_XYZ',\n",
        " 'LLAB_VIEWING_CONDITIONS',\n",
        " 'LLAB_Specification',\n",
        " 'XYZ_to_LLAB',\n",
        " 'Nayatani95_Specification',\n",
        " 'XYZ_to_Nayatani95',\n",
        " 'RLAB_VIEWING_CONDITIONS',\n",
        " 'RLAB_D_FACTOR',\n",
        " 'RLAB_Specification',\n",
        " 'XYZ_to_RLAB']\n",
        "\n",
        "\n",
        "Characterisation\n",
        "['COLOURCHECKERS', 'COLOURCHECKERS_SPDS', 'first_order_colour_fit']\n",
        "\n",
        "\n",
        "Colorimetry\n",
        "['SpectralShape',\n",
        " 'DEFAULT_SPECTRAL_SHAPE',\n",
        " 'SpectralPowerDistribution',\n",
        " 'TriSpectralPowerDistribution',\n",
        " 'constant_spd',\n",
        " 'zeros_spd',\n",
        " 'ones_spd',\n",
        " 'blackbody_spd',\n",
        " 'blackbody_spectral_radiance',\n",
        " 'planck_law',\n",
        " 'CMFS',\n",
        " 'LMS_CMFS',\n",
        " 'RGB_CMFS',\n",
        " 'STANDARD_OBSERVERS_CMFS',\n",
        " 'ILLUMINANTS',\n",
        " 'D_ILLUMINANTS_S_SPDS',\n",
        " 'ILLUMINANTS_RELATIVE_SPDS',\n",
        " 'LEFS',\n",
        " 'PHOTOPIC_LEFS',\n",
        " 'SCOTOPIC_LEFS',\n",
        " 'LMS_ConeFundamentals',\n",
        " 'RGB_ColourMatchingFunctions',\n",
        " 'XYZ_ColourMatchingFunctions',\n",
        " 'BANDPASS_CORRECTION_METHODS',\n",
        " 'bandpass_correction',\n",
        " 'bandpass_correction_stearns1988',\n",
        " 'D_illuminant_relative_spd',\n",
        " 'mesopic_luminous_efficiency_function',\n",
        " 'mesopic_weighting_function',\n",
        " 'LIGHTNESS_METHODS',\n",
        " 'lightness',\n",
        " 'lightness_glasser1958',\n",
        " 'lightness_wyszecki1964',\n",
        " 'lightness_1976',\n",
        " 'LUMINANCE_METHODS',\n",
        " 'luminance',\n",
        " 'luminance_newhall1943',\n",
        " 'luminance_1976',\n",
        " 'luminance_ASTM_D1535_08',\n",
        " 'RGB_10_degree_cmfs_to_LMS_10_degree_cmfs',\n",
        " 'RGB_2_degree_cmfs_to_XYZ_2_degree_cmfs',\n",
        " 'RGB_10_degree_cmfs_to_XYZ_10_degree_cmfs',\n",
        " 'LMS_2_degree_cmfs_to_XYZ_2_degree_cmfs',\n",
        " 'LMS_10_degree_cmfs_to_XYZ_10_degree_cmfs',\n",
        " 'spectral_to_XYZ',\n",
        " 'wavelength_to_XYZ']\n",
        "\n",
        "\n",
        "Constants\n",
        "[u'CIE_E',\n",
        " u'CIE_K',\n",
        " u'AVOGADRO_CONSTANT',\n",
        " u'BOLTZMANN_CONSTANT',\n",
        " u'LIGHT_SPEED',\n",
        " u'PLANCK_CONSTANT']\n",
        "\n",
        "\n",
        "Difference\n",
        "['DELTA_E_METHODS',\n",
        " 'delta_E',\n",
        " 'delta_E_CIE_1976',\n",
        " 'delta_E_CIE_1994',\n",
        " 'delta_E_CIE_2000',\n",
        " 'delta_E_CMC']\n",
        "\n",
        "\n",
        "Io\n",
        "['read_spectral_data_from_csv_file',\n",
        " 'read_spds_from_csv_file',\n",
        " 'write_spds_to_csv_file']\n",
        "\n",
        "\n",
        "Models\n",
        "['RGB_Colourspace',\n",
        " 'normalised_primary_matrix',\n",
        " 'RGB_luminance_equation',\n",
        " 'RGB_luminance',\n",
        " 'ACES_RICD',\n",
        " 'RGB_COLOURSPACES',\n",
        " 'ACES_RGB_COLOURSPACE',\n",
        " 'ACES_RGB_LOG_COLOURSPACE',\n",
        " 'ACES_RGB_PROXY_10_COLOURSPACE',\n",
        " 'ACES_RGB_PROXY_12_COLOURSPACE',\n",
        " 'ADOBE_RGB_1998_COLOURSPACE',\n",
        " 'ADOBE_WIDE_GAMUT_RGB_COLOURSPACE',\n",
        " 'ALEXA_WIDE_GAMUT_RGB_COLOURSPACE',\n",
        " 'APPLE_RGB_COLOURSPACE',\n",
        " 'BEST_RGB_COLOURSPACE',\n",
        " 'BETA_RGB_COLOURSPACE',\n",
        " 'CIE_RGB_COLOURSPACE',\n",
        " 'C_LOG_COLOURSPACE',\n",
        " 'COLOR_MATCH_RGB_COLOURSPACE',\n",
        " 'DCI_P3_COLOURSPACE',\n",
        " 'DON_RGB_4_COLOURSPACE',\n",
        " 'ECI_RGB_V2_COLOURSPACE',\n",
        " 'EKTA_SPACE_PS_5_COLOURSPACE',\n",
        " 'MAX_RGB_COLOURSPACE',\n",
        " 'NTSC_RGB_COLOURSPACE',\n",
        " 'PAL_SECAM_RGB_COLOURSPACE',\n",
        " 'PROPHOTO_RGB_COLOURSPACE',\n",
        " 'REC_709_COLOURSPACE',\n",
        " 'REC_2020_COLOURSPACE',\n",
        " 'RUSSELL_RGB_COLOURSPACE',\n",
        " 'S_LOG_COLOURSPACE',\n",
        " 'SMPTE_C_RGB_COLOURSPACE',\n",
        " 'sRGB_COLOURSPACE',\n",
        " 'XTREME_RGB_COLOURSPACE',\n",
        " 'POINTER_GAMUT_DATA',\n",
        " 'XYZ_to_xyY',\n",
        " 'xyY_to_XYZ',\n",
        " 'xy_to_XYZ',\n",
        " 'XYZ_to_xy',\n",
        " 'XYZ_to_Lab',\n",
        " 'Lab_to_XYZ',\n",
        " 'Lab_to_LCHab',\n",
        " 'LCHab_to_Lab',\n",
        " 'XYZ_to_Luv',\n",
        " 'Luv_to_XYZ',\n",
        " 'Luv_to_uv',\n",
        " 'Luv_uv_to_xy',\n",
        " 'Luv_to_LCHuv',\n",
        " 'LCHuv_to_Luv',\n",
        " 'XYZ_to_UCS',\n",
        " 'UCS_to_XYZ',\n",
        " 'UCS_to_uv',\n",
        " 'UCS_uv_to_xy',\n",
        " 'XYZ_to_UVW',\n",
        " 'XYZ_to_RGB',\n",
        " 'RGB_to_XYZ',\n",
        " 'RGB_to_RGB',\n",
        " 'XYZ_to_sRGB',\n",
        " 'spectral_to_aces_relative_exposure_values']\n",
        "\n",
        "\n",
        "Notation\n",
        "["
       ]
      },
      {
       "output_type": "stream",
       "stream": "stdout",
       "text": [
        "'MUNSELL_COLOURS_ALL',\n",
        " 'MUNSELL_COLOURS_1929',\n",
        " 'MUNSELL_COLOURS_REAL',\n",
        " 'MUNSELL_COLOURS',\n",
        " 'munsell_value',\n",
        " 'MUNSELL_VALUE_METHODS',\n",
        " 'munsell_value_priest1920',\n",
        " 'munsell_value_munsell1933',\n",
        " 'munsell_value_moon1943',\n",
        " 'munsell_value_saunderson1944',\n",
        " 'munsell_value_ladd1955',\n",
        " 'munsell_value_mccamy1987',\n",
        " 'munsell_value_ASTM_D1535_08',\n",
        " 'munsell_colour_to_xyY',\n",
        " 'xyY_to_munsell_colour']\n",
        "\n",
        "\n",
        "Optimal\n",
        "['ILLUMINANTS_OPTIMAL_COLOUR_STIMULI', 'is_within_macadam_limits']\n",
        "\n",
        "\n",
        "Phenomenons\n",
        "['scattering_cross_section',\n",
        " 'rayleigh_optical_depth',\n",
        " 'rayleigh_scattering',\n",
        " 'rayleigh_scattering_spd']\n",
        "\n",
        "\n",
        "Plotting\n",
        "['ASTM_G_173_ETR',\n",
        " 'PLOTTING_RESOURCES_DIRECTORY',\n",
        " 'DEFAULT_FIGURE_SIZE',\n",
        " 'DEFAULT_COLOUR_CYCLE',\n",
        " 'ColourParameter',\n",
        " 'colour_cycle',\n",
        " 'figure_size',\n",
        " 'aspect',\n",
        " 'bounding_box',\n",
        " 'display',\n",
        " 'colour_parameter',\n",
        " 'colour_parameters_plot',\n",
        " 'single_colour_plot',\n",
        " 'multi_colour_plot',\n",
        " 'get_cmfs',\n",
        " 'get_illuminant',\n",
        " 'single_spd_plot',\n",
        " 'multi_spd_plot',\n",
        " 'single_cmfs_plot',\n",
        " 'multi_cmfs_plot',\n",
        " 'single_illuminant_relative_spd_plot',\n",
        " 'multi_illuminants_relative_spd_plot',\n",
        " 'visible_spectrum_plot',\n",
        " 'single_lightness_function_plot',\n",
        " 'multi_lightness_function_plot',\n",
        " 'blackbody_spectral_radiance_plot',\n",
        " 'blackbody_colours_plot',\n",
        " 'colour_checker_plot',\n",
        " 'CIE_1931_chromaticity_diagram_plot',\n",
        " 'CIE_1960_UCS_chromaticity_diagram_plot',\n",
        " 'CIE_1976_UCS_chromaticity_diagram_plot',\n",
        " 'get_RGB_colourspace',\n",
        " 'colourspaces_CIE_1931_chromaticity_diagram_plot',\n",
        " 'single_transfer_function_plot',\n",
        " 'multi_transfer_function_plot',\n",
        " 'single_munsell_value_function_plot',\n",
        " 'multi_munsell_value_function_plot',\n",
        " 'single_rayleigh_scattering_spd_plot',\n",
        " 'the_blue_sky_plot',\n",
        " 'colour_rendering_index_bars_plot',\n",
        " 'planckian_locus_CIE_1931_chromaticity_diagram_plot',\n",
        " 'planckian_locus_CIE_1960_UCS_chromaticity_diagram_plot']\n",
        "\n",
        "\n",
        "Quality\n",
        "['TCS_SPDS', 'colour_rendering_index']\n",
        "\n",
        "\n",
        "Temperature\n",
        "['CCT_TO_UV_METHODS',\n",
        " 'UV_TO_CCT_METHODS',\n",
        " 'CCT_to_uv',\n",
        " 'CCT_to_uv_ohno2013',\n",
        " 'CCT_to_uv_robertson1968',\n",
        " 'uv_to_CCT',\n",
        " 'uv_to_CCT_ohno2013',\n",
        " 'uv_to_CCT_robertson1968',\n",
        " 'CCT_TO_XY_METHODS',\n",
        " 'XY_TO_CCT_METHODS',\n",
        " 'CCT_to_xy',\n",
        " 'CCT_to_xy_kang2002',\n",
        " 'CCT_to_xy_illuminant_D',\n",
        " 'xy_to_CCT',\n",
        " 'xy_to_CCT_mccamy1992',\n",
        " 'xy_to_CCT_hernandez1999']\n",
        "\n",
        "\n",
        "Utilities\n",
        "['is_scipy_installed',\n",
        " 'is_string',\n",
        " 'Lookup',\n",
        " 'Structure',\n",
        " 'CaseInsensitiveMapping',\n",
        " 'warning']\n",
        "\n",
        "\n"
       ]
      }
     ],
     "prompt_number": 3
    },
    {
     "cell_type": "markdown",
     "metadata": {},
     "source": [
      "The code is well documented and pretty much every docstrings have usage examples:"
     ]
    },
    {
     "cell_type": "code",
     "collapsed": false,
     "input": [
      "print(colour.CCT_to_uv_ohno2013.__doc__)"
     ],
     "language": "python",
     "metadata": {},
     "outputs": [
      {
       "output_type": "stream",
       "stream": "stdout",
       "text": [
        "\n",
        "    Returns the *CIE UCS* colourspace *uv* chromaticity coordinates from given\n",
        "    correlated colour temperature :math:`T_{cp}`, :math:`\\Delta_{uv}` and\n",
        "    colour matching functions using *Yoshi Ohno (2013)* method.\n",
        "\n",
        "    Parameters\n",
        "    ----------\n",
        "    CCT : numeric\n",
        "        Correlated colour temperature :math:`T_{cp}`.\n",
        "    Duv : numeric, optional\n",
        "        :math:`\\Delta_{uv}`.\n",
        "    cmfs : XYZ_ColourMatchingFunctions, optional\n",
        "        Standard observer colour matching functions.\n",
        "\n",
        "    Returns\n",
        "    -------\n",
        "    tuple\n",
        "        *CIE UCS* colourspace *uv* chromaticity coordinates.\n",
        "\n",
        "    References\n",
        "    ----------\n",
        "    .. [3]  **Yoshi Ohno**, `Practical Use and Calculation of CCT and Duv\n",
        "            <http://dx.doi.org/10.1080/15502724.2014.839020>`_\n",
        "\n",
        "    Examples\n",
        "    --------\n",
        "    >>> from colour import STANDARD_OBSERVERS_CMFS\n",
        "    >>> cmfs = 'CIE 1931 2 Degree Standard Observer'\n",
        "    >>> cmfs = STANDARD_OBSERVERS_CMFS.get(cmfs)\n",
        "    >>> CCT = 6507.4342201047066\n",
        "    >>> Duv = 0.003223690901512735\n",
        "    >>> CCT_to_uv_ohno2013(CCT, Duv, cmfs)  # doctest: +ELLIPSIS\n",
        "    (0.1978003..., 0.3122005...)\n",
        "    \n"
       ]
      }
     ],
     "prompt_number": 4
    },
    {
     "cell_type": "markdown",
     "metadata": {},
     "source": [
      "At the core of [Colour](https://github.com/KelSolaar/Colour/) is the *colour.colorimetry* sub-package, it defines the objects needed for spectral related computations and many others:"
     ]
    },
    {
     "cell_type": "code",
     "collapsed": false,
     "input": [
      "from pprint import pprint\n",
      "import colour.colorimetry as colorimetry\n",
      "\n",
      "pprint(colorimetry.__all__)"
     ],
     "language": "python",
     "metadata": {},
     "outputs": [
      {
       "output_type": "stream",
       "stream": "stdout",
       "text": [
        "['SpectralShape',\n",
        " 'DEFAULT_SPECTRAL_SHAPE',\n",
        " 'SpectralPowerDistribution',\n",
        " 'TriSpectralPowerDistribution',\n",
        " 'constant_spd',\n",
        " 'zeros_spd',\n",
        " 'ones_spd',\n",
        " 'blackbody_spd',\n",
        " 'blackbody_spectral_radiance',\n",
        " 'planck_law',\n",
        " 'CMFS',\n",
        " 'LMS_CMFS',\n",
        " 'RGB_CMFS',\n",
        " 'STANDARD_OBSERVERS_CMFS',\n",
        " 'ILLUMINANTS',\n",
        " 'D_ILLUMINANTS_S_SPDS',\n",
        " 'ILLUMINANTS_RELATIVE_SPDS',\n",
        " 'LEFS',\n",
        " 'PHOTOPIC_LEFS',\n",
        " 'SCOTOPIC_LEFS',\n",
        " 'LMS_ConeFundamentals',\n",
        " 'RGB_ColourMatchingFunctions',\n",
        " 'XYZ_ColourMatchingFunctions',\n",
        " 'BANDPASS_CORRECTION_METHODS',\n",
        " 'bandpass_correction',\n",
        " 'bandpass_correction_stearns1988',\n",
        " 'D_illuminant_relative_spd',\n",
        " 'mesopic_luminous_efficiency_function',\n",
        " 'mesopic_weighting_function',\n",
        " 'LIGHTNESS_METHODS',\n",
        " 'lightness',\n",
        " 'lightness_glasser1958',\n",
        " 'lightness_wyszecki1964',\n",
        " 'lightness_1976',\n",
        " 'LUMINANCE_METHODS',\n",
        " 'luminance',\n",
        " 'luminance_newhall1943',\n",
        " 'luminance_1976',\n",
        " 'luminance_ASTM_D1535_08',\n",
        " 'RGB_10_degree_cmfs_to_LMS_10_degree_cmfs',\n",
        " 'RGB_2_degree_cmfs_to_XYZ_2_degree_cmfs',\n",
        " 'RGB_10_degree_cmfs_to_XYZ_10_degree_cmfs',\n",
        " 'LMS_2_degree_cmfs_to_XYZ_2_degree_cmfs',\n",
        " 'LMS_10_degree_cmfs_to_XYZ_10_degree_cmfs',\n",
        " 'spectral_to_XYZ',\n",
        " 'wavelength_to_XYZ']\n"
       ]
      }
     ],
     "prompt_number": 5
    },
    {
     "cell_type": "markdown",
     "metadata": {},
     "source": [
      "[Colour](https://github.com/KelSolaar/Colour/) computations are based on a comprehensive dataset available in pretty much each sub-packages, for example *colour.colorimetry.dataset* defines the following data:"
     ]
    },
    {
     "cell_type": "code",
     "collapsed": false,
     "input": [
      "import colour.colorimetry.dataset as dataset\n",
      "\n",
      "pprint(dataset.__all__)"
     ],
     "language": "python",
     "metadata": {},
     "outputs": [
      {
       "output_type": "stream",
       "stream": "stdout",
       "text": [
        "['CMFS',\n",
        " 'LMS_CMFS',\n",
        " 'RGB_CMFS',\n",
        " 'STANDARD_OBSERVERS_CMFS',\n",
        " 'ILLUMINANTS',\n",
        " 'D_ILLUMINANTS_S_SPDS',\n",
        " 'ILLUMINANTS_RELATIVE_SPDS',\n",
        " 'LEFS',\n",
        " 'PHOTOPIC_LEFS',\n",
        " 'SCOTOPIC_LEFS']\n"
       ]
      }
     ],
     "prompt_number": 6
    },
    {
     "cell_type": "heading",
     "level": 2,
     "metadata": {},
     "source": [
      "Spectral Computations"
     ]
    },
    {
     "cell_type": "heading",
     "level": 3,
     "metadata": {},
     "source": [
      "From Spectral Power Distribution..."
     ]
    },
    {
     "cell_type": "markdown",
     "metadata": {},
     "source": [
      "Whether it be a sample spectral power distribution, colour matching functions or illuminants, spectral data is manipulated using an object built with the colour.SpectralPowerDistribution class or based on it:"
     ]
    },
    {
     "cell_type": "code",
     "collapsed": false,
     "input": [
      "# Defining a sample spectral power distribution data.\n",
      "sample_spd_data = {\n",
      "    380: 0.048,\n",
      "    385: 0.051,\n",
      "    390: 0.055,\n",
      "    395: 0.06,\n",
      "    400: 0.065,\n",
      "    405: 0.068,\n",
      "    410: 0.068,\n",
      "    415: 0.067,\n",
      "    420: 0.064,\n",
      "    425: 0.062,\n",
      "    430: 0.059,\n",
      "    435: 0.057,\n",
      "    440: 0.055,\n",
      "    445: 0.054,\n",
      "    450: 0.053,\n",
      "    455: 0.053,\n",
      "    460: 0.052,\n",
      "    465: 0.052,\n",
      "    470: 0.052,\n",
      "    475: 0.053,\n",
      "    480: 0.054,\n",
      "    485: 0.055,\n",
      "    490: 0.057,\n",
      "    495: 0.059,\n",
      "    500: 0.061,\n",
      "    505: 0.062,\n",
      "    510: 0.065,\n",
      "    515: 0.067,\n",
      "    520: 0.07,\n",
      "    525: 0.072,\n",
      "    530: 0.074,\n",
      "    535: 0.075,\n",
      "    540: 0.076,\n",
      "    545: 0.078,\n",
      "    550: 0.079,\n",
      "    555: 0.082,\n",
      "    560: 0.087,\n",
      "    565: 0.092,\n",
      "    570: 0.1,\n",
      "    575: 0.107,\n",
      "    580: 0.115,\n",
      "    585: 0.122,\n",
      "    590: 0.129,\n",
      "    595: 0.134,\n",
      "    600: 0.138,\n",
      "    605: 0.142,\n",
      "    610: 0.146,\n",
      "    615: 0.15,\n",
      "    620: 0.154,\n",
      "    625: 0.158,\n",
      "    630: 0.163,\n",
      "    635: 0.167,\n",
      "    640: 0.173,\n",
      "    645: 0.18,\n",
      "    650: 0.188,\n",
      "    655: 0.196,\n",
      "    660: 0.204,\n",
      "    665: 0.213,\n",
      "    670: 0.222,\n",
      "    675: 0.231,\n",
      "    680: 0.242,\n",
      "    685: 0.251,\n",
      "    690: 0.261,\n",
      "    695: 0.271,\n",
      "    700: 0.282,\n",
      "    705: 0.294,\n",
      "    710: 0.305,\n",
      "    715: 0.318,\n",
      "    720: 0.334,\n",
      "    725: 0.354,\n",
      "    730: 0.372,\n",
      "    735: 0.392,\n",
      "    740: 0.409,\n",
      "    745: 0.42,\n",
      "    750: 0.436,\n",
      "    755: 0.45,\n",
      "    760: 0.462,\n",
      "    765: 0.465,\n",
      "    770: 0.448,\n",
      "    775: 0.432,\n",
      "    780: 0.421}\n",
      "\n",
      "spd = colour.SpectralPowerDistribution(\"Sample\", sample_spd_data)\n",
      "print(spd)"
     ],
     "language": "python",
     "metadata": {},
     "outputs": [
      {
       "output_type": "stream",
       "stream": "stdout",
       "text": [
        "<colour.colorimetry.spectrum.SpectralPowerDistribution object at 0x107985d50>\n"
       ]
      }
     ],
     "prompt_number": 7
    },
    {
     "cell_type": "markdown",
     "metadata": {},
     "source": [
      "The sample spectral power distribution can be easily plotted against the visible spectrum:"
     ]
    },
    {
     "cell_type": "code",
     "collapsed": false,
     "input": [
      "# Plotting the sample spectral power distribution.\n",
      "single_spd_plot(spd)"
     ],
     "language": "python",
     "metadata": {},
     "outputs": [
      {
       "metadata": {},
       "output_type": "display_data",
       "png": "[encoded data removed]",
       "text": [
        "<matplotlib.figure.Figure at 0x10797f4d0>"
       ]
      },
      {
       "metadata": {},
       "output_type": "pyout",
       "prompt_number": 8,
       "text": [
        "True"
       ]
      }
     ],
     "prompt_number": 8
    },
    {
     "cell_type": "markdown",
     "metadata": {},
     "source": [
      "With the sample spectral power distribution defined, we can retrieve its shape:"
     ]
    },
    {
     "cell_type": "code",
     "collapsed": false,
     "input": [
      "# Displaying the sample spectral power distribution shape.\n",
      "print(spd.shape)"
     ],
     "language": "python",
     "metadata": {},
     "outputs": [
      {
       "output_type": "stream",
       "stream": "stdout",
       "text": [
        "(380, 780, 5)\n"
       ]
      }
     ],
     "prompt_number": 9
    },
    {
     "cell_type": "markdown",
     "metadata": {},
     "source": [
      "The shape returned is an instance of colour.SpectralShape class:"
     ]
    },
    {
     "cell_type": "code",
     "collapsed": false,
     "input": [
      "repr(spd.shape)"
     ],
     "language": "python",
     "metadata": {},
     "outputs": [
      {
       "metadata": {},
       "output_type": "pyout",
       "prompt_number": 10,
       "text": [
        "'SpectralShape(380, 780, 5)'"
       ]
      }
     ],
     "prompt_number": 10
    },
    {
     "cell_type": "markdown",
     "metadata": {},
     "source": [
      "*colour.SpectralShape* is used throughout [Colour](https://github.com/KelSolaar/Colour/) to define spectral dimensions and is instantiated as follows:"
     ]
    },
    {
     "cell_type": "code",
     "collapsed": false,
     "input": [
      "# Using *colour.SpectralShape* with iteration.\n",
      "shape = colour.SpectralShape(start=0, end=10, steps=1)\n",
      "for wavelength in shape:\n",
      "    print(wavelength)\n",
      "\n",
      "# *colour.SpectralShape.range* method is providing the complete range of values. \n",
      "shape = colour.SpectralShape(0, 10, 0.5)\n",
      "shape.range()"
     ],
     "language": "python",
     "metadata": {},
     "outputs": [
      {
       "output_type": "stream",
       "stream": "stdout",
       "text": [
        "0\n",
        "1\n",
        "2\n",
        "3\n",
        "4\n",
        "5\n",
        "6\n",
        "7\n",
        "8\n",
        "9\n",
        "10\n"
       ]
      },
      {
       "metadata": {},
       "output_type": "pyout",
       "prompt_number": 11,
       "text": [
        "array([  0. ,   0.5,   1. ,   1.5,   2. ,   2.5,   3. ,   3.5,   4. ,\n",
        "         4.5,   5. ,   5.5,   6. ,   6.5,   7. ,   7.5,   8. ,   8.5,\n",
        "         9. ,   9.5,  10. ])"
       ]
      }
     ],
     "prompt_number": 11
    },
    {
     "cell_type": "markdown",
     "metadata": {},
     "source": [
      "[Colour](https://github.com/KelSolaar/Colour/) defines three convenient objects to create constant spectral power distributions:\n",
      "\n",
      "*  *colour.constant_spd*\n",
      "*  *colour.zeros_spd*\n",
      "*  *colour.ones_spd*"
     ]
    },
    {
     "cell_type": "code",
     "collapsed": false,
     "input": [
      "# Defining a constant spectral power distribution.\n",
      "constant_spd = colour.constant_spd(100)\n",
      "print('\"Constant Spectral Power Distribution\"')\n",
      "print(constant_spd.shape)\n",
      "print(constant_spd[400])\n",
      "\n",
      "# Defining a zeros filled spectral power distribution.\n",
      "print('\\n\"Zeros Filled Spectral Power Distribution\"')\n",
      "zeros_spd = colour.zeros_spd()\n",
      "print(zeros_spd.shape)\n",
      "print(zeros_spd[400])\n",
      "\n",
      "# Defining a ones filled spectral power distribution.\n",
      "print('\\n\"Ones Filled Spectral Power Distribution\"')\n",
      "ones_spd = colour.ones_spd()\n",
      "print(ones_spd.shape)\n",
      "print(ones_spd[400])"
     ],
     "language": "python",
     "metadata": {},
     "outputs": [
      {
       "output_type": "stream",
       "stream": "stdout",
       "text": [
        "\"Constant Spectral Power Distribution\"\n",
        "(360, 830, 1)\n",
        "100.0\n",
        "\n",
        "\"Zeros Filled Spectral Power Distribution\"\n",
        "(360, 830, 1)\n",
        "0.0\n",
        "\n",
        "\"Ones Filled Spectral Power Distribution\"\n",
        "(360, 830, 1)\n",
        "1.0\n"
       ]
      }
     ],
     "prompt_number": 12
    },
    {
     "cell_type": "markdown",
     "metadata": {},
     "source": [
      "By default the shape used by *colour.constant_spd*, *colour.zeros_spd* and *colour.ones_spd* is the one defined by *colour.DEFAULT_SPECTRAL_SHAPE* attribute using the *CIE 1931 2\u00b0 Standard Observer* shape."
     ]
    },
    {
     "cell_type": "code",
     "collapsed": false,
     "input": [
      "print(repr(colour.DEFAULT_SPECTRAL_SHAPE))"
     ],
     "language": "python",
     "metadata": {},
     "outputs": [
      {
       "output_type": "stream",
       "stream": "stdout",
       "text": [
        "SpectralShape(360, 830, 1)\n"
       ]
      }
     ],
     "prompt_number": 13
    },
    {
     "cell_type": "markdown",
     "metadata": {},
     "source": [
      "A custom shape can be passed to construct a constant spectral power distribution with tailored dimensions:"
     ]
    },
    {
     "cell_type": "code",
     "collapsed": false,
     "input": [
      "colour.ones_spd(colour.SpectralShape(400, 700, 5))[450]"
     ],
     "language": "python",
     "metadata": {},
     "outputs": [
      {
       "metadata": {},
       "output_type": "pyout",
       "prompt_number": 14,
       "text": [
        "1.0"
       ]
      }
     ],
     "prompt_number": 14
    },
    {
     "cell_type": "markdown",
     "metadata": {},
     "source": [
      "The *colour.SpectralPowerDistribution* class supports the following arithmetical operations:\n",
      "\n",
      "* *addition*\n",
      "* *subtraction*\n",
      "* *multiplication*\n",
      "* *division*"
     ]
    },
    {
     "cell_type": "code",
     "collapsed": false,
     "input": [
      "spd1 = colour.ones_spd()\n",
      "print('\"Ones Filled Spectral Power Distribution\"')\n",
      "print(spd1[400])\n",
      "\n",
      "print('\\n\"x2 Constant Multiplied\"')\n",
      "print((spd1 * 2)[400])\n",
      "\n",
      "print('\\n\"+ Spectral Power Distribution\"')\n",
      "print((spd1 + colour.ones_spd())[400])"
     ],
     "language": "python",
     "metadata": {},
     "outputs": [
      {
       "output_type": "stream",
       "stream": "stdout",
       "text": [
        "\"Ones Filled Spectral Power Distribution\"\n",
        "1.0\n",
        "\n",
        "\"x2 Constant Multiplied\"\n",
        "2.0\n",
        "\n",
        "\"+ Spectral Power Distribution\"\n",
        "3.0\n"
       ]
      }
     ],
     "prompt_number": 15
    },
    {
     "cell_type": "markdown",
     "metadata": {},
     "source": [
      "Often interpolation of the spectral power distribution is needed, this is achieved with the *colour.SpectralPowerDistribution.interpolate* method. Depending on the wavelengths uniformity, the default interpolation method will differ. Following *CIE 167:2005* recommendation: The method developed by *Sprague* (1880) should be used for interpolating functions having a uniformly spaced independent variable and a *Cubic Spline* method for non-uniformly spaced independent variable. <a name=\"back_reference_1\"><a href=\"#reference_1\">[1]</a></a>\n",
      "\n",
      "We can check the uniformity of the sample spectral power distribution:"
     ]
    },
    {
     "cell_type": "code",
     "collapsed": false,
     "input": [
      "# Checking the sample spectral power distribution uniformity.\n",
      "print(spd.is_uniform())"
     ],
     "language": "python",
     "metadata": {},
     "outputs": [
      {
       "output_type": "stream",
       "stream": "stdout",
       "text": [
        "True\n"
       ]
      }
     ],
     "prompt_number": 16
    },
    {
     "cell_type": "markdown",
     "metadata": {},
     "source": [
      "Since the sample spectral power distribution is uniform the interpolation will be using the *colour.SpragueInterpolator* interpolator.\n",
      "\n",
      "> Note: Interpolation happens in place and may alter your original data, use the *colour.SpectralPowerDistribution.clone* method to produce a copy of your spectral power distribution before interpolation."
     ]
    },
    {
     "cell_type": "code",
     "collapsed": false,
     "input": [
      "# Cloning the sample spectral power distribution.\n",
      "clone_spd = spd.clone()\n",
      "\n",
      "# Interpolating the cloned sample spectral power distribution.\n",
      "clone_spd.interpolate(colour.SpectralShape(400, 770, 1))\n",
      "clone_spd[401]"
     ],
     "language": "python",
     "metadata": {},
     "outputs": [
      {
       "metadata": {},
       "output_type": "pyout",
       "prompt_number": 17,
       "text": [
        "0.06580960000000001"
       ]
      }
     ],
     "prompt_number": 17
    },
    {
     "cell_type": "code",
     "collapsed": false,
     "input": [
      "# Comparing the interpolated spectral power distribution with the original one.\n",
      "multi_spd_plot([spd, clone_spd], bounding_box=[730,780, 0.1, 0.5])"
     ],
     "language": "python",
     "metadata": {},
     "outputs": [
      {
       "metadata": {},
       "output_type": "display_data",
       "png": "[encoded data removed]",
       "text": [
        "<matplotlib.figure.Figure at 0x1071caf50>"
       ]
      },
      {
       "metadata": {},
       "output_type": "pyout",
       "prompt_number": 18,
       "text": [
        "True"
       ]
      }
     ],
     "prompt_number": 18
    },
    {
     "cell_type": "markdown",
     "metadata": {},
     "source": [
      "Extrapolation although dangerous can be used to help aligning two spectral power distributions together. *CIE publication CIE 15:2004 \"Colorimetry\"* recommends that unmeasured values may be set equal to the nearest measured value of the appropriate quantity in truncation: <a name=\"back_reference_2\"><a href=\"#reference_2\">[2]</a></a>"
     ]
    },
    {
     "cell_type": "code",
     "collapsed": false,
     "input": [
      "# Extrapolating the cloned sample spectral power distribution.\n",
      "clone_spd.extrapolate(colour.SpectralShape(340, 830))\n",
      "clone_spd[340], clone_spd[830]"
     ],
     "language": "python",
     "metadata": {},
     "outputs": [
      {
       "metadata": {},
       "output_type": "pyout",
       "prompt_number": 19,
       "text": [
        "(0.065, 0.448)"
       ]
      }
     ],
     "prompt_number": 19
    },
    {
     "cell_type": "markdown",
     "metadata": {},
     "source": [
      "The extrapolation can be forced to use *Linear* method instead of the *Constant* default method or even use arbitrary constant *left* and *right* values:"
     ]
    },
    {
     "cell_type": "code",
     "collapsed": false,
     "input": [
      "# Extrapolating the cloned sample spectral power distribution with *Linear* method.\n",
      "# We first trim the spectral power distribution using the interpolation method,\n",
      "# the steps being the same, no interpolation will actually occur.\n",
      "clone_spd.interpolate(colour.SpectralShape(400, 700))  \n",
      "clone_spd.extrapolate(colour.SpectralShape(340, 830), method='Linear', right=0)\n",
      "clone_spd[340], clone_spd[830]"
     ],
     "language": "python",
     "metadata": {},
     "outputs": [
      {
       "metadata": {},
       "output_type": "pyout",
       "prompt_number": 20,
       "text": [
        "(0.01642399999999955, 0.0)"
       ]
      }
     ],
     "prompt_number": 20
    },
    {
     "cell_type": "markdown",
     "metadata": {},
     "source": [
      "Aligning a spectral power distribution is a convenient way to first interpolatesthe current data within its original bounds then if needed extrapolates any missing values to match the requested shape:"
     ]
    },
    {
     "cell_type": "code",
     "collapsed": false,
     "input": [
      "# Aligning the cloned sample spectral power distribution.\n",
      "# We first trim the spectral power distribution as above.\n",
      "clone_spd.interpolate(colour.SpectralShape(400, 700))  \n",
      "clone_spd.align(colour.SpectralShape(340, 830, 5))\n",
      "clone_spd[340], clone_spd[830]"
     ],
     "language": "python",
     "metadata": {},
     "outputs": [
      {
       "metadata": {},
       "output_type": "pyout",
       "prompt_number": 21,
       "text": [
        "(0.065, 0.282)"
       ]
      }
     ],
     "prompt_number": 21
    },
    {
     "cell_type": "markdown",
     "metadata": {},
     "source": [
      "The *colour.SpectralPowerDistribution* class also supports various arithmetic operations like *addition*, *subtraction*, *multiplication* or *division* with *numeric* and *array_like* variables or other *colour.SpectralPowerDistribution* class instances:"
     ]
    },
    {
     "cell_type": "code",
     "collapsed": false,
     "input": [
      "spd = colour.SpectralPowerDistribution(\"Sample\", {410: 0.50, 420: 0.75, 430: 1., 440: 0.75, 450: 0.50})\n",
      "print((spd.clone() + 1).values)\n",
      "print((spd.clone() * 2).values)\n",
      "print((spd * [0.35, 1.55, 0.75, 2.55, 0.95]).values)\n",
      "print((spd * colour.constant_spd(2, spd.shape) * colour.constant_spd(3, spd.shape)).values)"
     ],
     "language": "python",
     "metadata": {},
     "outputs": [
      {
       "output_type": "stream",
       "stream": "stdout",
       "text": [
        "[ 1.5   1.75  2.    1.75  1.5 ]\n",
        "[ 1.   1.5  2.   1.5  1. ]\n",
        "[ 0.175   1.1625  0.75    1.9125  0.475 ]\n",
        "[  1.05    6.975   4.5    11.475   2.85 ]\n"
       ]
      }
     ],
     "prompt_number": 22
    },
    {
     "cell_type": "markdown",
     "metadata": {},
     "source": [
      "The spectral power distribution can be normalised with an arbitrary factor:"
     ]
    },
    {
     "cell_type": "code",
     "collapsed": false,
     "input": [
      "print(spd.normalise().values)\n",
      "print(spd.normalise(100).values)"
     ],
     "language": "python",
     "metadata": {},
     "outputs": [
      {
       "output_type": "stream",
       "stream": "stdout",
       "text": [
        "[ 0.09150327  0.60784314  0.39215686  1.          0.24836601]\n",
        "[   9.1503268    60.78431373   39.21568627  100.           24.83660131]\n"
       ]
      }
     ],
     "prompt_number": 23
    },
    {
     "cell_type": "heading",
     "level": 3,
     "metadata": {},
     "source": [
      "... to Tristimulus Values"
     ]
    },
    {
     "cell_type": "markdown",
     "metadata": {},
     "source": [
      "From a given spectral power distribution, *CIE XYZ* tristimulus values can be calculated:"
     ]
    },
    {
     "cell_type": "code",
     "collapsed": false,
     "input": [
      "spd = colour.SpectralPowerDistribution(\"Sample\", sample_spd_data)\n",
      "cmfs = colour.STANDARD_OBSERVERS_CMFS[\"CIE 1931 2 Degree Standard Observer\"]\n",
      "illuminant = colour.ILLUMINANTS_RELATIVE_SPDS[\"D65\"]\n",
      "\n",
      "# Calculating the sample spectral power distribution *CIE XYZ* tristimulus values.\n",
      "XYZ = colour.spectral_to_XYZ(spd, cmfs, illuminant)\n",
      "print(XYZ)"
     ],
     "language": "python",
     "metadata": {},
     "outputs": [
      {
       "output_type": "stream",
       "stream": "stdout",
       "text": [
        "[ 10.9706809    9.7027807    6.05480757]\n"
       ]
      }
     ],
     "prompt_number": 24
    },
    {
     "cell_type": "heading",
     "level": 3,
     "metadata": {},
     "source": [
      "From *CIE XYZ* Colourspace..."
     ]
    },
    {
     "cell_type": "markdown",
     "metadata": {},
     "source": [
      "*CIE XYZ* is the central colourspace for Colour Science from which many computations are available, cascading to even more computations:"
     ]
    },
    {
     "cell_type": "code",
     "collapsed": false,
     "input": [
      "# Displaying objects interacting directly with the *CIE XYZ* colourspace.\n",
      "pprint([name for name in colour.__all__ if name.startswith('XYZ_to')])"
     ],
     "language": "python",
     "metadata": {},
     "outputs": [
      {
       "output_type": "stream",
       "stream": "stdout",
       "text": [
        "['XYZ_to_Hunt',\n",
        " 'XYZ_to_ATD95',\n",
        " 'XYZ_to_CIECAM02',\n",
        " 'XYZ_to_LLAB',\n",
        " 'XYZ_to_Nayatani95',\n",
        " 'XYZ_to_RLAB',\n",
        " 'XYZ_to_xyY',\n",
        " 'XYZ_to_xy',\n",
        " 'XYZ_to_Lab',\n",
        " 'XYZ_to_Luv',\n",
        " 'XYZ_to_UCS',\n",
        " 'XYZ_to_UVW',\n",
        " 'XYZ_to_RGB',\n",
        " 'XYZ_to_sRGB']\n"
       ]
      }
     ],
     "prompt_number": 25
    },
    {
     "cell_type": "heading",
     "level": 3,
     "metadata": {},
     "source": [
      "... to Screen Colours"
     ]
    },
    {
     "cell_type": "markdown",
     "metadata": {},
     "source": [
      "We can for instance converts the *XYZ* tristimulus values into *sRGB* colourspace *RGB* values in order to display them on screen:"
     ]
    },
    {
     "cell_type": "code",
     "collapsed": false,
     "input": [
      "# The output domain of *colour.spectral_to_XYZ* is [0, 100] and the input domain of *colour.XYZ_to_sRGB* is [0, 1].\n",
      "# We need to take it in account and rescale the input *CIE XYZ* colourspace matrix.\n",
      "RGB = colour.XYZ_to_sRGB(XYZ / 100)\n",
      "print(RGB)"
     ],
     "language": "python",
     "metadata": {},
     "outputs": [
      {
       "output_type": "stream",
       "stream": "stdout",
       "text": [
        "[ 0.45678515  0.30983401  0.24860046]\n"
       ]
      }
     ],
     "prompt_number": 26
    },
    {
     "cell_type": "code",
     "collapsed": false,
     "input": [
      "# Plotting the *sRGB* colourspace colour of the *Sample* spectral power distribution.\n",
      "single_colour_plot(colour_parameter('Sample', RGB), text_size=32)"
     ],
     "language": "python",
     "metadata": {},
     "outputs": [
      {
       "metadata": {},
       "output_type": "display_data",
       "png": "[encoded data removed]",
       "text": [
        "<matplotlib.figure.Figure at 0x1071ee190>"
       ]
      },
      {
       "metadata": {},
       "output_type": "pyout",
       "prompt_number": 27,
       "text": [
        "True"
       ]
      }
     ],
     "prompt_number": 27
    },
    {
     "cell_type": "heading",
     "level": 3,
     "metadata": {},
     "source": [
      "... to Colour Rendition Charts"
     ]
    },
    {
     "cell_type": "markdown",
     "metadata": {},
     "source": [
      "In the same way, we can compute values from a colour rendition chart sample.\n",
      "\n",
      "> Note: This is useful for render time checks in the VFX industry, where you can use a synthetic colour chart into your render and ensure the colour management is acting as expected.\n",
      "\n",
      "The *colour.characterisation* sub-package contains the dataset for various colour rendition charts:"
     ]
    },
    {
     "cell_type": "code",
     "collapsed": false,
     "input": [
      "# Colour rendition charts chromaticity coordinates.\n",
      "print(sorted(colour.characterisation.COLOURCHECKERS.keys()))\n",
      "\n",
      "# Colour rendition charts spectral power distributions.\n",
      "print(sorted(colour.characterisation.COLOURCHECKERS_SPDS.keys()))"
     ],
     "language": "python",
     "metadata": {},
     "outputs": [
      {
       "output_type": "stream",
       "stream": "stdout",
       "text": [
        "[u'BabelColor Average', u'ColorChecker 1976', u'ColorChecker 2005', u'babel_average', u'cc2005']\n",
        "[u'BabelColor Average', u'ColorChecker N Ohta', u'babel_average', u'cc_ohta']\n"
       ]
      }
     ],
     "prompt_number": 28
    },
    {
     "cell_type": "markdown",
     "metadata": {},
     "source": [
      "> Note: The above *cc2005*, *babel_average* and *cc_ohta* keys are convenient aliases for respectively *ColorChecker 2005*, *BabelColor Average* and *ColorChecker N Ohta* keys."
     ]
    },
    {
     "cell_type": "code",
     "collapsed": false,
     "input": [
      "# Plotting the *sRGB* colourspace colour of *neutral 5 (.70 D)* patch.\n",
      "patch_name = 'neutral 5 (.70 D)'\n",
      "patch_spd = colour.COLOURCHECKERS_SPDS['ColorChecker N Ohta'][patch_name]\n",
      "XYZ = colour.spectral_to_XYZ(patch_spd, cmfs, illuminant)\n",
      "RGB = colour.XYZ_to_sRGB(XYZ / 100)\n",
      "\n",
      "single_colour_plot(colour_parameter(patch_name.title(), RGB), text_size=32)"
     ],
     "language": "python",
     "metadata": {},
     "outputs": [
      {
       "metadata": {},
       "output_type": "display_data",
       "png": "[encoded data removed]",
       "text": [
        "<matplotlib.figure.Figure at 0x1071c7fd0>"
       ]
      },
      {
       "metadata": {},
       "output_type": "pyout",
       "prompt_number": 29,
       "text": [
        "True"
       ]
      }
     ],
     "prompt_number": 29
    },
    {
     "cell_type": "markdown",
     "metadata": {},
     "source": [
      "[Colour](https://github.com/KelSolaar/Colour/) defines a convenient plotting object to draw synthetic colour rendition charts figures:"
     ]
    },
    {
     "cell_type": "code",
     "collapsed": false,
     "input": [
      "colour_checker_plot(colour_checker='ColorChecker 2005', text_display=False)"
     ],
     "language": "python",
     "metadata": {},
     "outputs": [
      {
       "metadata": {},
       "output_type": "display_data",
       "png": "[encoded data removed]",
       "text": [
        "<matplotlib.figure.Figure at 0x1071dc4d0>"
       ]
      },
      {
       "metadata": {},
       "output_type": "pyout",
       "prompt_number": 30,
       "text": [
        "True"
       ]
      }
     ],
     "prompt_number": 30
    },
    {
     "cell_type": "heading",
     "level": 3,
     "metadata": {},
     "source": [
      "... to Chromaticity Coordinates"
     ]
    },
    {
     "cell_type": "markdown",
     "metadata": {},
     "source": [
      "Given a spectral power distribution, chromaticity coordinates *xy* can be computed using the *colour.XYZ_to_xy* definition:"
     ]
    },
    {
     "cell_type": "code",
     "collapsed": false,
     "input": [
      "# Computing *xy* chromaticity coordinates for the *neutral 5 (.70 D)* patch.\n",
      "xy =  colour.XYZ_to_xy(XYZ)\n",
      "print(xy)"
     ],
     "language": "python",
     "metadata": {},
     "outputs": [
      {
       "output_type": "stream",
       "stream": "stdout",
       "text": [
        "(0.31260312551158093, 0.32871262401812895)\n"
       ]
      }
     ],
     "prompt_number": 31
    },
    {
     "cell_type": "markdown",
     "metadata": {},
     "source": [
      "Chromaticity coordinates *xy* can be plotted into the *CIE 1931 Chromaticity Diagram*:"
     ]
    },
    {
     "cell_type": "code",
     "collapsed": false,
     "input": [
      "import pylab\n",
      "\n",
      "# Plotting the *CIE 1931 Chromaticity Diagram*.\n",
      "# The argument *standalone=False* is passed so that the plot doesn't get displayed\n",
      "# and can be used as a basis for other plots.\n",
      "CIE_1931_chromaticity_diagram_plot(standalone=False)\n",
      "\n",
      "# Plotting the *xy* chromaticity coordinates.\n",
      "x, y = xy\n",
      "pylab.plot(x, y, \"o-\", color=\"white\")\n",
      "\n",
      "# Annotating the plot.\n",
      "pylab.annotate(patch_spd.name.title(),\n",
      "               xy=xy,\n",
      "               xytext=(-50, 30),\n",
      "               textcoords=\"offset points\",\n",
      "               arrowprops=dict(arrowstyle=\"->\", connectionstyle=\"arc3, rad=-0.2\"))\n",
      "\n",
      "# Displaying the plot.\n",
      "display(standalone=True)"
     ],
     "language": "python",
     "metadata": {},
     "outputs": [
      {
       "metadata": {},
       "output_type": "display_data",
       "png": "[encoded data removed]",
       "text": [
        "<matplotlib.figure.Figure at 0x1071c7710>"
       ]
      },
      {
       "metadata": {},
       "output_type": "pyout",
       "prompt_number": 32,
       "text": [
        "True"
       ]
      }
     ],
     "prompt_number": 32
    },
    {
     "cell_type": "heading",
     "level": 3,
     "metadata": {},
     "source": [
      "... to More"
     ]
    },
    {
     "cell_type": "markdown",
     "metadata": {},
     "source": [
      "We hope that this small introduction has been useful and gave you the envy to see more, if you want to explore the API a good place to start is the [IPython Notebooks](http://nbviewer.ipython.org/github/colour-science/colour-ipython/blob/master/notebooks/colour.ipynb) page."
     ]
    },
    {
     "cell_type": "heading",
     "level": 2,
     "metadata": {},
     "source": [
      "References"
     ]
    },
    {
     "cell_type": "markdown",
     "metadata": {},
     "source": [
      "1. <a href=\"#back_reference_1\">^<a> <a name=\"reference_1\"></a>[CIE 167:2005 Recommended Practice for Tabulating Spectral Data for Use in Colour Computations](http://div1.cie.co.at/?i_ca_id=551&pubid=47) (Last accessed 28 May 2014)\n",
      "2. <a href=\"#back_reference_2\">^<a> <a name=\"reference_2\"></a>https://law.resource.org/pub/us/cfr/ibr/003/cie.15.2004.pdf (Last accessed 28 May 2014)"
     ]
    }
   ],
   "metadata": {}
  }
 ]
}